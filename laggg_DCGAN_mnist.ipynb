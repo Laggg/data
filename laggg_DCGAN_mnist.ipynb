{
 "cells": [
  {
   "cell_type": "markdown",
   "id": "4062af46",
   "metadata": {},
   "source": [
    "# Load data, prepare dataloader, miniEDA"
   ]
  },
  {
   "cell_type": "code",
   "execution_count": 1,
   "id": "53fe6c0d",
   "metadata": {},
   "outputs": [
    {
     "name": "stdout",
     "output_type": "stream",
     "text": [
      "torch_version: 1.7.0,\n",
      "torchvision_version: 0.8.1\n",
      "device: cuda:0 \n",
      "\n",
      "train data: torch.Size([60000, 28, 28]) torch.Size([60000])\n",
      "train data's type: torch.ByteTensor torch.LongTensor\n",
      "tensor(255, dtype=torch.uint8) tensor(0, dtype=torch.uint8)\n"
     ]
    },
    {
     "data": {
      "image/png": "[encoded data removed]",
      "text/plain": [
       "<Figure size 432x288 with 1 Axes>"
      ]
     },
     "metadata": {
      "needs_background": "light"
     },
     "output_type": "display_data"
    }
   ],
   "source": [
    "import torch\n",
    "from torch import nn, optim\n",
    "from torch.autograd.variable import Variable\n",
    "import torch.nn.functional as F\n",
    "import torchvision\n",
    "import torchvision.transforms as transforms\n",
    "\n",
    "import numpy as np\n",
    "import seaborn as sns\n",
    "import plot_utils\n",
    "import matplotlib.pyplot as plt\n",
    "%matplotlib inline\n",
    "\n",
    "# params\n",
    "#random_seed = 1\n",
    "batch_size = 32\n",
    "device = 'cuda:0' if torch.cuda.is_available() else 'cpu'\n",
    "\n",
    "# prepare DataLoader\n",
    "transform = transforms.Compose([transforms.ToTensor(), transforms.Normalize((0.5,), (0.5,))])\n",
    "train_set = torchvision.datasets.MNIST(root=\".\", train=True, download=True, transform=transform)\n",
    "train_dl = torch.utils.data.DataLoader(train_set, batch_size, shuffle = True)\n",
    "\n",
    "# info\n",
    "print('torch_version: {},\\ntorchvision_version: {}'.format(torch.__version__,torchvision.__version__))\n",
    "print('device:', device, '\\n')\n",
    "\n",
    "print('train data:', train_set.data.shape, train_set.targets.shape)\n",
    "print('train data\\'s type:', train_set.data[0].type(), train_set.targets[0].type()) # torch.uint8\n",
    "print(train_set.data.max(),train_set.data.min()) # torch.uint8\n",
    "plt.hist(train_set.data.view(60000*28*28,1).numpy());"
   ]
  },
  {
   "cell_type": "code",
   "execution_count": 5,
   "id": "89cdfcac",
   "metadata": {},
   "outputs": [
    {
     "data": {
      "image/png": "[encoded data removed]",
      "text/plain": [
       "<Figure size 576x288 with 3 Axes>"
      ]
     },
     "metadata": {
      "needs_background": "light"
     },
     "output_type": "display_data"
    }
   ],
   "source": [
    "data_batch, labels_batch = next(iter(train_dl))[0], next(iter(train_dl))[1]\n",
    "\n",
    "fig, ax = plt.subplots(1, 2, figsize=(8,4))\n",
    "sns.heatmap(data=data_batch[7].view(28,28),cmap='gray', xticklabels=False, yticklabels=False, ax=ax[1])\n",
    "sns.histplot(data_batch[7].view(28,28).numpy(), legend=False, ax=ax[0]);"
   ]
  },
  {
   "cell_type": "markdown",
   "id": "97f9e3e0",
   "metadata": {},
   "source": [
    "# №1"
   ]
  },
  {
   "cell_type": "code",
   "execution_count": 8,
   "id": "22cc5beb",
   "metadata": {},
   "outputs": [],
   "source": [
    "# архитектура DCGAN\n",
    "\n",
    "class Discriminator(nn.Module):\n",
    "    \n",
    "    def __init__(self):\n",
    "        super().__init__()\n",
    "        self.conv0 = nn.Conv2d(1, 32, kernel_size = 3, stride = 2, padding = 1)\n",
    "        self.conv0_drop = nn.Dropout2d(0.25)\n",
    "        self.conv1 = nn.Conv2d(32, 64, kernel_size = 3, stride = 1, padding = 1)\n",
    "        self.conv1_drop = nn.Dropout2d(0.25)\n",
    "        self.conv2 = nn.Conv2d(64, 128, kernel_size = 3, stride = 1, padding = 1)\n",
    "        self.conv2_drop = nn.Dropout2d(0.25)\n",
    "        self.conv3 = nn.Conv2d(128, 256, kernel_size = 3, stride = 2, padding = 1)\n",
    "        self.conv3_drop = nn.Dropout2d(0.25)\n",
    "        self.fc = nn.Linear(12544, 1)\n",
    "    \n",
    "    def forward(self, x):\n",
    "        x = x.view(-1, 1, 28, 28)\n",
    "        x = F.leaky_relu(self.conv0(x), 0.2)\n",
    "        x = self.conv0_drop(x)\n",
    "        x = F.leaky_relu(self.conv1(x), 0.2)\n",
    "        x = self.conv1_drop(x)\n",
    "        x = F.leaky_relu(self.conv2(x), 0.2)\n",
    "        x = self.conv2_drop(x)\n",
    "        x = F.leaky_relu(self.conv3(x), 0.2)\n",
    "        x = self.conv3_drop(x)\n",
    "        x = x.view(-1, self.num_flat_features(x))\n",
    "        x = self.fc(x)\n",
    "        return x\n",
    "    \n",
    "    def num_flat_features(self, x):\n",
    "        size = x.size()[1:]\n",
    "        num_features = 1\n",
    "        for s in size:\n",
    "            num_features *= s\n",
    "        return num_features\n",
    "    \n",
    "    \n",
    "class Generator(nn.Module):\n",
    "    \n",
    "    def __init__(self):\n",
    "        super().__init__()\n",
    "        self.fc = nn.Linear(100, 256*7*7)\n",
    "        self.trans_conv1 = nn.ConvTranspose2d(256, 128, kernel_size = 3, stride = 2, padding = 1, output_padding = 1)\n",
    "        self.trans_conv2 = nn.ConvTranspose2d(128, 64, kernel_size = 3, stride = 1, padding = 1)\n",
    "        self.trans_conv3 = nn.ConvTranspose2d(64, 32, kernel_size = 3, stride = 1, padding = 1)\n",
    "        self.trans_conv4 = nn.ConvTranspose2d(32, 1, kernel_size = 3, stride = 2, padding = 1, output_padding = 1)\n",
    "    \n",
    "    def forward(self, x):\n",
    "        x = self.fc(x)\n",
    "        x = x.view(-1, 256, 7, 7)\n",
    "        x = F.relu(self.trans_conv1(x))\n",
    "        x = F.relu(self.trans_conv2(x))\n",
    "        x = F.relu(self.trans_conv3(x))\n",
    "        x = self.trans_conv4(x)\n",
    "        x = torch.tanh(x)\n",
    "        return x"
   ]
  },
  {
   "cell_type": "code",
   "execution_count": 9,
   "id": "11d82d17",
   "metadata": {},
   "outputs": [],
   "source": [
    "# лоссы и геренация нормального распределения\n",
    "\n",
    "def random_noise_generator(batch_size, dim):\n",
    "    return torch.normal(mean=0.0, std=1.0, size=(batch_size, dim))\n",
    "\n",
    "Loss = nn.BCEWithLogitsLoss()\n",
    "\n",
    "def discriminator_real_loss(real_out):\n",
    "    real_label = torch.ones(real_out.size()[0], 1).to(device)\n",
    "    real_loss = Loss(real_out.squeeze(), real_label.squeeze())\n",
    "    return real_loss\n",
    "\n",
    "def discriminator_fake_loss(fake_out):\n",
    "    fake_label = torch.zeros(fake_out.size()[0], 1).to(device)\n",
    "    fake_loss = Loss(fake_out.squeeze(), fake_label.squeeze())\n",
    "    return fake_loss\n",
    "\n",
    "def discriminator_loss(real_out, fake_out):\n",
    "    real_loss = discriminator_real_loss(real_out)\n",
    "    fake_loss = discriminator_fake_loss(fake_out)\n",
    "    total_loss = (real_loss + fake_loss)\n",
    "    return total_loss\n",
    "\n",
    "def generator_loss(gen_disc_out):\n",
    "    label = torch.ones(gen_disc_out.size()[0], 1).to(device)\n",
    "    gen_loss = Loss(gen_disc_out.squeeze(), label.squeeze())\n",
    "    return gen_loss"
   ]
  },
  {
   "cell_type": "code",
   "execution_count": 11,
   "id": "41acf530",
   "metadata": {},
   "outputs": [],
   "source": [
    "# Функция обучения DCGAN\n",
    "\n",
    "def train(D, G, disc_opt, gen_opt, train_dl, batch_size = 32, epochs = 20, gen_input_size = 100):\n",
    "    \n",
    "    disc_losses = []\n",
    "    gen_losses = []\n",
    "    \n",
    "    D.train()\n",
    "    G.train()\n",
    "    for epoch in range(epochs + 1):\n",
    "        \n",
    "        disc_loss_total = 0\n",
    "        gen_loss_total = 0\n",
    "        gen_out = 0\n",
    "        for (train_x,_) in train_dl:\n",
    "            \n",
    "            #Discriminator training\n",
    "            disc_opt.zero_grad()\n",
    "            train_x = train_x.to(device) \n",
    "            real_out = D(train_x.float())    \n",
    "            disc_gen_in = random_noise_generator(batch_size, gen_input_size)\n",
    "            disc_gen_in = disc_gen_in.to(device)\n",
    "            disc_gen_out = G(disc_gen_in.float()).detach()  # чтобы генератор не обучался во время disc_opt.step()\n",
    "            fake_out = D(disc_gen_out.float())\n",
    "            disc_loss = discriminator_loss(real_out, fake_out)\n",
    "            disc_loss_total += disc_loss\n",
    "            disc_loss.backward()\n",
    "            disc_opt.step()  \n",
    "        \n",
    "            #Generator training\n",
    "            gen_opt.zero_grad()\n",
    "            gen_out = G(disc_gen_in.float())\n",
    "            gen_disc_out = D(gen_out.float())\n",
    "            gen_loss = generator_loss(gen_disc_out)\n",
    "            gen_loss_total += gen_loss\n",
    "            gen_loss.backward()\n",
    "            gen_opt.step()\n",
    "        \n",
    "        disc_losses.append(disc_loss_total)\n",
    "        gen_losses.append(gen_loss_total)\n",
    "    \n",
    "    return disc_losses, gen_losses"
   ]
  },
  {
   "cell_type": "markdown",
   "id": "28e2799c",
   "metadata": {},
   "source": [
    "### Обучаем G и D в составе GAN"
   ]
  },
  {
   "cell_type": "code",
   "execution_count": 13,
   "id": "78961df0",
   "metadata": {},
   "outputs": [
    {
     "name": "stdout",
     "output_type": "stream",
     "text": [
      "CPU times: user 17min 35s, sys: 2.87 s, total: 17min 37s\n",
      "Wall time: 17min 33s\n"
     ]
    }
   ],
   "source": [
    "%%time\n",
    "# on RTX 2080ti ~= 18 min\n",
    "\n",
    "D = Discriminator().to(device).float()\n",
    "G = Generator().to(device).float()\n",
    "\n",
    "disc_opt = optim.Adam(D.parameters(), lr = 0.0002, betas = (0.5, 0.999))\n",
    "gen_opt = optim.Adam(G.parameters(), lr = 0.0002, betas = (0.5, 0.999))\n",
    "\n",
    "disc_losses, gen_losses = train(D, G, disc_opt, gen_opt, train_dl, batch_size, epochs=45)"
   ]
  },
  {
   "cell_type": "code",
   "execution_count": 23,
   "id": "7ecd1e6c",
   "metadata": {},
   "outputs": [
    {
     "data": {
      "image/png": "[encoded data removed]",
      "text/plain": [
       "<Figure size 720x216 with 1 Axes>"
      ]
     },
     "metadata": {
      "needs_background": "light"
     },
     "output_type": "display_data"
    }
   ],
   "source": [
    "plt.figure(figsize=(10,3));\n",
    "plt.plot(disc_losses, color='blue', label='D loss', linewidth=2)\n",
    "plt.plot(gen_losses, color='red', label='G loss', linewidth=2)\n",
    "#plt.yticks(range(4))\n",
    "plt.legend()\n",
    "plt.grid();"
   ]
  },
  {
   "cell_type": "markdown",
   "id": "047df24a",
   "metadata": {},
   "source": [
    "### Покажем, что Генератор G умеет синтезировать случайные изображения цифр x по некоторому входному латентному вектору h, который семплируется из нормального распределения."
   ]
  },
  {
   "cell_type": "code",
   "execution_count": 19,
   "id": "8df6ab83",
   "metadata": {},
   "outputs": [
    {
     "name": "stdout",
     "output_type": "stream",
     "text": [
      "torch.Size([16, 100]) torch.Size([16, 1, 28, 28])\n"
     ]
    },
    {
     "data": {
      "image/png": "[encoded data removed]",
      "text/plain": [
       "<Figure size 576x288 with 1 Axes>"
      ]
     },
     "metadata": {
      "needs_background": "light"
     },
     "output_type": "display_data"
    },
    {
     "data": {
      "image/png": "[encoded data removed]",
      "text/plain": [
       "<Figure size 2016x288 with 14 Axes>"
      ]
     },
     "metadata": {
      "needs_background": "light"
     },
     "output_type": "display_data"
    }
   ],
   "source": [
    "fixed_samples = random_noise_generator(16, 100) # семплируем из нормального распределения 16 векторов h\n",
    "fixed_samples_cuda = fixed_samples.to(device)\n",
    "G.eval()        \n",
    "samples = G(fixed_samples_cuda.float()) # прогоняем их через генератор\n",
    "\n",
    "plt.figure(figsize=(8,4))\n",
    "plt.hist(fixed_samples); # показываем, что распределение действительно нормальное (по построению)\n",
    "\n",
    "print(fixed_samples.shape,samples.shape)\n",
    "\n",
    "k = 7 # визуализируем первые k синтезированные изображения из 16 сгенерированных\n",
    "fig, ax = plt.subplots(1, k, figsize=(4*k,4))\n",
    "for i in range(len(samples[:k])):\n",
    "    x = samples[i].cpu().detach()\n",
    "    sns.heatmap(data=x.view(28,28),cmap='gray', xticklabels=False, yticklabels=False, ax=ax[i])"
   ]
  },
  {
   "cell_type": "code",
   "execution_count": null,
   "id": "419afc67",
   "metadata": {},
   "outputs": [],
   "source": []
  },
  {
   "cell_type": "code",
   "execution_count": null,
   "id": "b8481aff",
   "metadata": {},
   "outputs": [],
   "source": []
  }
 ],
 "metadata": {
  "kernelspec": {
   "display_name": "Python 3",
   "language": "python",
   "name": "python3"
  },
  "language_info": {
   "codemirror_mode": {
    "name": "ipython",
    "version": 3
   },
   "file_extension": ".py",
   "mimetype": "text/x-python",
   "name": "python",
   "nbconvert_exporter": "python",
   "pygments_lexer": "ipython3",
   "version": "3.7.4"
  }
 },
 "nbformat": 4,
 "nbformat_minor": 5
}
